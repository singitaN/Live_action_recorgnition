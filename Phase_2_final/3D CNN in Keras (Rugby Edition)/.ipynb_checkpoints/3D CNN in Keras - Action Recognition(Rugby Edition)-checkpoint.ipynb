{
 "cells": [
  {
   "cell_type": "markdown",
   "metadata": {},
   "source": [
    "# 3D CNN in Keras - Action Recognition (Rugby Edition)\n",
    "\n",
    "\n"
   ]
  },
  {
   "cell_type": "code",
   "execution_count": 102,
   "metadata": {},
   "outputs": [],
   "source": [
    "from keras.preprocessing.image import ImageDataGenerator\n",
    "from keras.models import Sequential\n",
    "from keras.layers.core import Dense, Dropout, Activation, Flatten\n",
    "from keras.layers.convolutional import Convolution3D, MaxPooling3D\n",
    "\n",
    "from keras.optimizers import SGD, RMSprop\n",
    "from keras.utils import np_utils, generic_utils\n",
    "\n",
    "import theano\n",
    "import os\n",
    "import matplotlib\n",
    "import matplotlib.pyplot as plt\n",
    "import numpy as np\n",
    "import cv2\n",
    "from sklearn.model_selection import train_test_split\n",
    "from sklearn.model_selection import cross_validate\n",
    "from sklearn import preprocessing\n",
    "\n",
    "\n",
    "\n",
    "\n",
    "from keras import backend as K\n",
    "K.set_image_dim_ordering('th')"
   ]
  },
  {
   "cell_type": "markdown",
   "metadata": {},
   "source": [
    "## Image specification"
   ]
  },
  {
   "cell_type": "code",
   "execution_count": 103,
   "metadata": {},
   "outputs": [],
   "source": [
    "img_rows,img_cols,img_depth=16,16,15"
   ]
  },
  {
   "cell_type": "markdown",
   "metadata": {},
   "source": [
    "## Training data"
   ]
  },
  {
   "cell_type": "code",
   "execution_count": 104,
   "metadata": {},
   "outputs": [],
   "source": [
    "X_tr=[]           # variable to store entire dataset"
   ]
  },
  {
   "cell_type": "markdown",
   "metadata": {},
   "source": [
    "## Check Current working directory"
   ]
  },
  {
   "cell_type": "code",
   "execution_count": 105,
   "metadata": {},
   "outputs": [
    {
     "data": {
      "text/plain": [
       "'/home/user/Documents/New CSIR DSIDE Things/Code It, Snap It, Dip It/3D CNN in Keras (Rugby Edition)'"
      ]
     },
     "execution_count": 105,
     "metadata": {},
     "output_type": "execute_result"
    }
   ],
   "source": [
    "os.getcwd()"
   ]
  },
  {
   "cell_type": "markdown",
   "metadata": {},
   "source": [
    "## Reading Lineouts action class"
   ]
  },
  {
   "cell_type": "code",
   "execution_count": 106,
   "metadata": {},
   "outputs": [
    {
     "name": "stdout",
     "output_type": "stream",
     "text": [
      "Frames per second using video.get(cv2.cv.CV_CAP_PROP_FPS): 25.0\n",
      "(15, 16, 16)\n",
      "(16, 16, 15)\n",
      "Frames per second using video.get(cv2.cv.CV_CAP_PROP_FPS): 25.0\n",
      "(15, 16, 16)\n",
      "(16, 16, 15)\n",
      "Frames per second using video.get(cv2.cv.CV_CAP_PROP_FPS): 25.0\n",
      "(15, 16, 16)\n",
      "(16, 16, 15)\n",
      "Frames per second using video.get(cv2.cv.CV_CAP_PROP_FPS): 25.0\n",
      "(15, 16, 16)\n",
      "(16, 16, 15)\n",
      "Frames per second using video.get(cv2.cv.CV_CAP_PROP_FPS): 25.0\n",
      "(15, 16, 16)\n",
      "(16, 16, 15)\n",
      "Frames per second using video.get(cv2.cv.CV_CAP_PROP_FPS): 25.0\n",
      "(15, 16, 16)\n",
      "(16, 16, 15)\n",
      "Frames per second using video.get(cv2.cv.CV_CAP_PROP_FPS): 25.0\n",
      "(15, 16, 16)\n",
      "(16, 16, 15)\n",
      "Frames per second using video.get(cv2.cv.CV_CAP_PROP_FPS): 25.0\n",
      "(15, 16, 16)\n",
      "(16, 16, 15)\n",
      "Frames per second using video.get(cv2.cv.CV_CAP_PROP_FPS): 25.0\n",
      "(15, 16, 16)\n",
      "(16, 16, 15)\n",
      "Frames per second using video.get(cv2.cv.CV_CAP_PROP_FPS): 25.0\n",
      "(15, 16, 16)\n",
      "(16, 16, 15)\n",
      "Frames per second using video.get(cv2.cv.CV_CAP_PROP_FPS): 25.0\n",
      "(15, 16, 16)\n",
      "(16, 16, 15)\n",
      "Frames per second using video.get(cv2.cv.CV_CAP_PROP_FPS): 25.0\n",
      "(15, 16, 16)\n",
      "(16, 16, 15)\n",
      "Frames per second using video.get(cv2.cv.CV_CAP_PROP_FPS): 25.0\n",
      "(15, 16, 16)\n",
      "(16, 16, 15)\n",
      "Frames per second using video.get(cv2.cv.CV_CAP_PROP_FPS): 25.0\n",
      "(15, 16, 16)\n",
      "(16, 16, 15)\n",
      "Frames per second using video.get(cv2.cv.CV_CAP_PROP_FPS): 25.0\n",
      "(15, 16, 16)\n",
      "(16, 16, 15)\n",
      "Frames per second using video.get(cv2.cv.CV_CAP_PROP_FPS): 25.0\n",
      "(15, 16, 16)\n",
      "(16, 16, 15)\n",
      "Frames per second using video.get(cv2.cv.CV_CAP_PROP_FPS): 25.0\n",
      "(15, 16, 16)\n",
      "(16, 16, 15)\n",
      "Frames per second using video.get(cv2.cv.CV_CAP_PROP_FPS): 25.0\n",
      "(15, 16, 16)\n",
      "(16, 16, 15)\n",
      "Frames per second using video.get(cv2.cv.CV_CAP_PROP_FPS): 25.0\n",
      "(15, 16, 16)\n",
      "(16, 16, 15)\n",
      "Frames per second using video.get(cv2.cv.CV_CAP_PROP_FPS): 25.0\n",
      "(15, 16, 16)\n",
      "(16, 16, 15)\n",
      "Frames per second using video.get(cv2.cv.CV_CAP_PROP_FPS): 25.0\n",
      "(15, 16, 16)\n",
      "(16, 16, 15)\n",
      "Frames per second using video.get(cv2.cv.CV_CAP_PROP_FPS): 25.0\n",
      "(15, 16, 16)\n",
      "(16, 16, 15)\n",
      "Frames per second using video.get(cv2.cv.CV_CAP_PROP_FPS): 25.0\n",
      "(15, 16, 16)\n",
      "(16, 16, 15)\n",
      "Frames per second using video.get(cv2.cv.CV_CAP_PROP_FPS): 25.0\n",
      "(15, 16, 16)\n",
      "(16, 16, 15)\n",
      "Frames per second using video.get(cv2.cv.CV_CAP_PROP_FPS): 25.0\n",
      "(15, 16, 16)\n",
      "(16, 16, 15)\n",
      "Frames per second using video.get(cv2.cv.CV_CAP_PROP_FPS): 25.0\n",
      "(15, 16, 16)\n",
      "(16, 16, 15)\n",
      "Frames per second using video.get(cv2.cv.CV_CAP_PROP_FPS): 25.0\n",
      "(15, 16, 16)\n",
      "(16, 16, 15)\n",
      "Frames per second using video.get(cv2.cv.CV_CAP_PROP_FPS): 25.0\n",
      "(15, 16, 16)\n",
      "(16, 16, 15)\n",
      "Frames per second using video.get(cv2.cv.CV_CAP_PROP_FPS): 25.0\n",
      "(15, 16, 16)\n",
      "(16, 16, 15)\n",
      "Frames per second using video.get(cv2.cv.CV_CAP_PROP_FPS): 25.0\n",
      "(15, 16, 16)\n",
      "(16, 16, 15)\n",
      "Frames per second using video.get(cv2.cv.CV_CAP_PROP_FPS): 25.0\n",
      "(15, 16, 16)\n",
      "(16, 16, 15)\n",
      "Frames per second using video.get(cv2.cv.CV_CAP_PROP_FPS): 25.0\n",
      "(15, 16, 16)\n",
      "(16, 16, 15)\n",
      "Frames per second using video.get(cv2.cv.CV_CAP_PROP_FPS): 25.0\n",
      "(15, 16, 16)\n",
      "(16, 16, 15)\n",
      "Frames per second using video.get(cv2.cv.CV_CAP_PROP_FPS): 25.0\n",
      "(15, 16, 16)\n",
      "(16, 16, 15)\n",
      "Frames per second using video.get(cv2.cv.CV_CAP_PROP_FPS): 25.0\n",
      "(15, 16, 16)\n",
      "(16, 16, 15)\n"
     ]
    }
   ],
   "source": [
    "listing = os.listdir('/home/user/Documents/New CSIR DSIDE Things/Code It, Snap It, Dip It/3D CNN in Keras (Rugby Edition)/Rugby Dataset/Line Outs')\n",
    "\n",
    "for vid in listing:\n",
    "    vid = 'Rugby Dataset/Line Outs/'+vid\n",
    "    frames = []\n",
    "    cap = cv2.VideoCapture(vid)\n",
    "    fps = cap.get(5)\n",
    "    print (\"Frames per second using video.get(cv2.cv.CV_CAP_PROP_FPS): {0}\".format(fps))\n",
    " \n",
    "\n",
    "    for k in range(15):\n",
    "        ret, frame = cap.read()\n",
    "        frame=cv2.resize(frame,(img_rows,img_cols),interpolation=cv2.INTER_AREA)\n",
    "        gray = cv2.cvtColor(frame, cv2.COLOR_BGR2GRAY)\n",
    "        frames.append(gray)\n",
    "        \n",
    "\n",
    "        if cv2.waitKey(1) & 0xFF == ord('q'):\n",
    "            break\n",
    "    cap.release()\n",
    "    cv2.destroyAllWindows()\n",
    "\n",
    "    input=np.array(frames)\n",
    "\n",
    "    print (input.shape)\n",
    "    ipt=np.rollaxis(np.rollaxis(input,2,0),2,0)\n",
    "    print (ipt.shape)\n",
    "\n",
    "    X_tr.append(ipt)"
   ]
  },
  {
   "cell_type": "code",
   "execution_count": null,
   "metadata": {},
   "outputs": [],
   "source": []
  },
  {
   "cell_type": "markdown",
   "metadata": {},
   "source": [
    "## Reading Scrums action class"
   ]
  },
  {
   "cell_type": "code",
   "execution_count": 107,
   "metadata": {},
   "outputs": [
    {
     "name": "stdout",
     "output_type": "stream",
     "text": [
      "Frames per second using video.get(cv2.cv.CV_CAP_PROP_FPS): 25.0\n",
      "(15, 16, 16)\n",
      "(16, 16, 15)\n",
      "Frames per second using video.get(cv2.cv.CV_CAP_PROP_FPS): 25.0\n",
      "(15, 16, 16)\n",
      "(16, 16, 15)\n",
      "Frames per second using video.get(cv2.cv.CV_CAP_PROP_FPS): 25.0\n",
      "(15, 16, 16)\n",
      "(16, 16, 15)\n",
      "Frames per second using video.get(cv2.cv.CV_CAP_PROP_FPS): 25.0\n",
      "(15, 16, 16)\n",
      "(16, 16, 15)\n",
      "Frames per second using video.get(cv2.cv.CV_CAP_PROP_FPS): 25.0\n",
      "(15, 16, 16)\n",
      "(16, 16, 15)\n",
      "Frames per second using video.get(cv2.cv.CV_CAP_PROP_FPS): 25.0\n",
      "(15, 16, 16)\n",
      "(16, 16, 15)\n",
      "Frames per second using video.get(cv2.cv.CV_CAP_PROP_FPS): 25.0\n",
      "(15, 16, 16)\n",
      "(16, 16, 15)\n",
      "Frames per second using video.get(cv2.cv.CV_CAP_PROP_FPS): 25.0\n",
      "(15, 16, 16)\n",
      "(16, 16, 15)\n",
      "Frames per second using video.get(cv2.cv.CV_CAP_PROP_FPS): 25.0\n",
      "(15, 16, 16)\n",
      "(16, 16, 15)\n",
      "Frames per second using video.get(cv2.cv.CV_CAP_PROP_FPS): 25.0\n",
      "(15, 16, 16)\n",
      "(16, 16, 15)\n",
      "Frames per second using video.get(cv2.cv.CV_CAP_PROP_FPS): 25.0\n",
      "(15, 16, 16)\n",
      "(16, 16, 15)\n",
      "Frames per second using video.get(cv2.cv.CV_CAP_PROP_FPS): 25.0\n",
      "(15, 16, 16)\n",
      "(16, 16, 15)\n",
      "Frames per second using video.get(cv2.cv.CV_CAP_PROP_FPS): 25.0\n",
      "(15, 16, 16)\n",
      "(16, 16, 15)\n",
      "Frames per second using video.get(cv2.cv.CV_CAP_PROP_FPS): 25.0\n",
      "(15, 16, 16)\n",
      "(16, 16, 15)\n",
      "Frames per second using video.get(cv2.cv.CV_CAP_PROP_FPS): 25.0\n",
      "(15, 16, 16)\n",
      "(16, 16, 15)\n",
      "Frames per second using video.get(cv2.cv.CV_CAP_PROP_FPS): 25.0\n",
      "(15, 16, 16)\n",
      "(16, 16, 15)\n",
      "Frames per second using video.get(cv2.cv.CV_CAP_PROP_FPS): 25.0\n",
      "(15, 16, 16)\n",
      "(16, 16, 15)\n",
      "Frames per second using video.get(cv2.cv.CV_CAP_PROP_FPS): 25.0\n",
      "(15, 16, 16)\n",
      "(16, 16, 15)\n",
      "Frames per second using video.get(cv2.cv.CV_CAP_PROP_FPS): 25.0\n",
      "(15, 16, 16)\n",
      "(16, 16, 15)\n",
      "Frames per second using video.get(cv2.cv.CV_CAP_PROP_FPS): 25.0\n",
      "(15, 16, 16)\n",
      "(16, 16, 15)\n",
      "Frames per second using video.get(cv2.cv.CV_CAP_PROP_FPS): 25.0\n",
      "(15, 16, 16)\n",
      "(16, 16, 15)\n",
      "Frames per second using video.get(cv2.cv.CV_CAP_PROP_FPS): 25.0\n",
      "(15, 16, 16)\n",
      "(16, 16, 15)\n",
      "Frames per second using video.get(cv2.cv.CV_CAP_PROP_FPS): 25.0\n",
      "(15, 16, 16)\n",
      "(16, 16, 15)\n",
      "Frames per second using video.get(cv2.cv.CV_CAP_PROP_FPS): 25.0\n",
      "(15, 16, 16)\n",
      "(16, 16, 15)\n",
      "Frames per second using video.get(cv2.cv.CV_CAP_PROP_FPS): 25.0\n",
      "(15, 16, 16)\n",
      "(16, 16, 15)\n",
      "Frames per second using video.get(cv2.cv.CV_CAP_PROP_FPS): 25.0\n",
      "(15, 16, 16)\n",
      "(16, 16, 15)\n",
      "Frames per second using video.get(cv2.cv.CV_CAP_PROP_FPS): 25.0\n",
      "(15, 16, 16)\n",
      "(16, 16, 15)\n",
      "Frames per second using video.get(cv2.cv.CV_CAP_PROP_FPS): 25.0\n",
      "(15, 16, 16)\n",
      "(16, 16, 15)\n",
      "Frames per second using video.get(cv2.cv.CV_CAP_PROP_FPS): 25.0\n",
      "(15, 16, 16)\n",
      "(16, 16, 15)\n",
      "Frames per second using video.get(cv2.cv.CV_CAP_PROP_FPS): 25.0\n",
      "(15, 16, 16)\n",
      "(16, 16, 15)\n",
      "Frames per second using video.get(cv2.cv.CV_CAP_PROP_FPS): 25.0\n",
      "(15, 16, 16)\n",
      "(16, 16, 15)\n",
      "Frames per second using video.get(cv2.cv.CV_CAP_PROP_FPS): 25.0\n",
      "(15, 16, 16)\n",
      "(16, 16, 15)\n",
      "Frames per second using video.get(cv2.cv.CV_CAP_PROP_FPS): 25.0\n",
      "(15, 16, 16)\n",
      "(16, 16, 15)\n",
      "Frames per second using video.get(cv2.cv.CV_CAP_PROP_FPS): 25.0\n",
      "(15, 16, 16)\n",
      "(16, 16, 15)\n",
      "Frames per second using video.get(cv2.cv.CV_CAP_PROP_FPS): 25.0\n",
      "(15, 16, 16)\n",
      "(16, 16, 15)\n"
     ]
    }
   ],
   "source": [
    "listing2 = os.listdir('/home/user/Documents/New CSIR DSIDE Things/Code It, Snap It, Dip It/3D CNN in Keras (Rugby Edition)/Rugby Dataset/Scrums')\n",
    "\n",
    "for vid2 in listing2:\n",
    "    vid2 = 'Rugby Dataset/Scrums/'+vid2\n",
    "    frames = []\n",
    "    cap = cv2.VideoCapture(vid2)\n",
    "    fps = cap.get(5)\n",
    "    print (\"Frames per second using video.get(cv2.cv.CV_CAP_PROP_FPS): {0}\".format(fps))\n",
    "\n",
    "    for k in range(15):\n",
    "        ret, frame = cap.read()\n",
    "        frame=cv2.resize(frame,(img_rows,img_cols),interpolation=cv2.INTER_AREA)\n",
    "        gray = cv2.cvtColor(frame, cv2.COLOR_BGR2GRAY)\n",
    "        frames.append(gray)\n",
    "\n",
    "\n",
    "        if cv2.waitKey(1) & 0xFF == ord('q'):\n",
    "            break\n",
    "    cap.release()\n",
    "    cv2.destroyAllWindows()\n",
    "    input=np.array(frames)\n",
    "\n",
    "    print (input.shape)\n",
    "    ipt=np.rollaxis(np.rollaxis(input,2,0),2,0)\n",
    "    print (ipt.shape)\n",
    "\n",
    "    X_tr.append(ipt)"
   ]
  },
  {
   "cell_type": "markdown",
   "metadata": {},
   "source": [
    "## Convert the frames read into array"
   ]
  },
  {
   "cell_type": "code",
   "execution_count": 108,
   "metadata": {},
   "outputs": [
    {
     "name": "stdout",
     "output_type": "stream",
     "text": [
      "70\n"
     ]
    }
   ],
   "source": [
    "X_tr_array = np.array(X_tr)   # convert the frames read into array\n",
    "\n",
    "num_samples = len(X_tr_array)\n",
    "print (num_samples)"
   ]
  },
  {
   "cell_type": "markdown",
   "metadata": {},
   "source": [
    "## Assign Label to each class"
   ]
  },
  {
   "cell_type": "code",
   "execution_count": 109,
   "metadata": {},
   "outputs": [
    {
     "name": "stdout",
     "output_type": "stream",
     "text": [
      "X_Train shape: (70, 16, 16, 15)\n",
      "(70, 1, 16, 16, 15) train samples\n"
     ]
    }
   ],
   "source": [
    "label=np.ones((num_samples,),dtype = int)\n",
    "label[0:34]= 0\n",
    "label[34:] = 1\n",
    "#label[299:399] = 3\n",
    "#label[399:499]= 4\n",
    "#label[499:] = 5\n",
    "\n",
    "\n",
    "train_data = [X_tr_array,label]\n",
    "\n",
    "(X_train, y_train) = (train_data[0],train_data[1])\n",
    "print('X_Train shape:', X_train.shape)\n",
    "\n",
    "train_set = np.zeros((num_samples, 1, img_rows,img_cols,img_depth))\n",
    "\n",
    "for h in range(num_samples):\n",
    "    train_set[h][0][:][:][:]=X_train[h,:,:,:]\n",
    " \n",
    "\n",
    "patch_size = 15    # img_depth or number of frames used for each video\n",
    "\n",
    "print(train_set.shape, 'train samples')\n"
   ]
  },
  {
   "cell_type": "markdown",
   "metadata": {},
   "source": [
    "## CNN Training parameters"
   ]
  },
  {
   "cell_type": "code",
   "execution_count": 110,
   "metadata": {},
   "outputs": [],
   "source": [
    "batch_size = 2\n",
    "nb_classes = 6\n",
    "nb_6bbb =50\n",
    "\n",
    "# convert class vectors to binary class matrices\n",
    "Y_train = np_utils.to_categorical(y_train, nb_classes)\n",
    "\n",
    "\n",
    "# number of convolutional filters to use at each layer\n",
    "nb_filters = [32, 32]\n",
    "\n",
    "# level of pooling to perform at each layer (POOL x POOL)\n",
    "nb_pool = [3, 3]\n",
    "\n",
    "# level of convolution to perform at each layer (CONV x CONV)\n",
    "nb_conv = [5, 5]\n",
    "\n",
    "# Pre-processing\n",
    "\n",
    "train_set = train_set.astype('float32')\n",
    "\n",
    "train_set -= np.mean(train_set)\n",
    "\n",
    "train_set /=np.max(train_set)"
   ]
  },
  {
   "cell_type": "markdown",
   "metadata": {},
   "source": [
    "## Define model"
   ]
  },
  {
   "cell_type": "code",
   "execution_count": 111,
   "metadata": {},
   "outputs": [
    {
     "name": "stderr",
     "output_type": "stream",
     "text": [
      "/home/user/anaconda3/lib/python3.6/site-packages/ipykernel_launcher.py:4: UserWarning: Update your `Conv3D` call to the Keras 2 API: `Conv3D(32, (5, 5, 5), input_shape=(1, 16, 16..., activation=\"relu\")`\n",
      "  after removing the cwd from sys.path.\n",
      "/home/user/anaconda3/lib/python3.6/site-packages/ipykernel_launcher.py:12: UserWarning: Update your `Dense` call to the Keras 2 API: `Dense(128, activation=\"relu\", kernel_initializer=\"normal\")`\n",
      "  if sys.path[0] == '':\n",
      "/home/user/anaconda3/lib/python3.6/site-packages/ipykernel_launcher.py:16: UserWarning: Update your `Dense` call to the Keras 2 API: `Dense(6, kernel_initializer=\"normal\")`\n",
      "  app.launch_new_instance()\n"
     ]
    }
   ],
   "source": [
    "model = Sequential()\n",
    "\n",
    "model.add(Convolution3D(nb_filters[0], kernel_dim1=nb_conv[0], kernel_dim2=nb_conv[0], kernel_dim3=nb_conv[0],\n",
    "input_shape=(1, img_rows, img_cols, img_depth), activation='relu'))\n",
    "\n",
    "model.add(MaxPooling3D(pool_size=(nb_pool[0], nb_pool[0], nb_pool[0])))\n",
    "\n",
    "model.add(Dropout(0.6))\n",
    "\n",
    "model.add(Flatten())\n",
    "\n",
    "model.add(Dense(128, init='normal', activation='relu'))\n",
    "\n",
    "model.add(Dropout(0.6))\n",
    "\n",
    "model.add(Dense(nb_classes,init='normal'))\n",
    "\n",
    "model.add(Activation('softmax'))\n",
    "\n",
    "#model.compile(loss='categorical_crossentropy', optimizer='RMSprop')\n",
    "\n",
    "model.compile(loss='categorical_crossentropy',optimizer='sgd',metrics=['accuracy'])\n",
    "#model.compile(loss='mean_squared_error', optimizer='sgd',metrics=['accuracy'])"
   ]
  },
  {
   "cell_type": "code",
   "execution_count": null,
   "metadata": {},
   "outputs": [],
   "source": []
  },
  {
   "cell_type": "markdown",
   "metadata": {},
   "source": [
    "## Train/Testing the model"
   ]
  },
  {
   "cell_type": "code",
   "execution_count": 112,
   "metadata": {},
   "outputs": [
    {
     "name": "stderr",
     "output_type": "stream",
     "text": [
      "/home/user/anaconda3/lib/python3.6/site-packages/ipykernel_launcher.py:9: UserWarning: The `nb_epoch` argument in `fit` has been renamed `epochs`.\n",
      "  if __name__ == '__main__':\n"
     ]
    },
    {
     "name": "stdout",
     "output_type": "stream",
     "text": [
      "Train on 49 samples, validate on 21 samples\n",
      "Epoch 1/50\n",
      "49/49 [==============================] - 0s 4ms/step - loss: 0.1394 - acc: 0.1837 - val_loss: 0.1387 - val_acc: 0.0952\n",
      "Epoch 2/50\n",
      "49/49 [==============================] - 0s 3ms/step - loss: 0.1387 - acc: 0.0816 - val_loss: 0.1379 - val_acc: 0.1905\n",
      "Epoch 3/50\n",
      "49/49 [==============================] - 0s 3ms/step - loss: 0.1369 - acc: 0.2857 - val_loss: 0.1370 - val_acc: 0.1905\n",
      "Epoch 4/50\n",
      "49/49 [==============================] - 0s 3ms/step - loss: 0.1375 - acc: 0.1837 - val_loss: 0.1362 - val_acc: 0.0952\n",
      "Epoch 5/50\n",
      "49/49 [==============================] - 0s 3ms/step - loss: 0.1369 - acc: 0.2857 - val_loss: 0.1353 - val_acc: 0.0952\n",
      "Epoch 6/50\n",
      "49/49 [==============================] - 0s 4ms/step - loss: 0.1344 - acc: 0.3878 - val_loss: 0.1343 - val_acc: 0.1429\n",
      "Epoch 7/50\n",
      "49/49 [==============================] - 0s 4ms/step - loss: 0.1321 - acc: 0.3265 - val_loss: 0.1334 - val_acc: 0.1429\n",
      "Epoch 8/50\n",
      "49/49 [==============================] - 0s 3ms/step - loss: 0.1321 - acc: 0.4082 - val_loss: 0.1324 - val_acc: 0.1905\n",
      "Epoch 9/50\n",
      "49/49 [==============================] - 0s 3ms/step - loss: 0.1305 - acc: 0.3878 - val_loss: 0.1314 - val_acc: 0.2381\n",
      "Epoch 10/50\n",
      "49/49 [==============================] - 0s 3ms/step - loss: 0.1302 - acc: 0.4490 - val_loss: 0.1303 - val_acc: 0.3333\n",
      "Epoch 11/50\n",
      "49/49 [==============================] - 0s 3ms/step - loss: 0.1300 - acc: 0.3469 - val_loss: 0.1293 - val_acc: 0.3333\n",
      "Epoch 12/50\n",
      "49/49 [==============================] - 0s 3ms/step - loss: 0.1263 - acc: 0.4694 - val_loss: 0.1281 - val_acc: 0.3333\n",
      "Epoch 13/50\n",
      "49/49 [==============================] - 0s 4ms/step - loss: 0.1260 - acc: 0.4898 - val_loss: 0.1269 - val_acc: 0.3333\n",
      "Epoch 14/50\n",
      "49/49 [==============================] - 0s 3ms/step - loss: 0.1241 - acc: 0.6122 - val_loss: 0.1257 - val_acc: 0.3333\n",
      "Epoch 15/50\n",
      "49/49 [==============================] - 0s 3ms/step - loss: 0.1216 - acc: 0.6735 - val_loss: 0.1243 - val_acc: 0.3810\n",
      "Epoch 16/50\n",
      "49/49 [==============================] - 0s 3ms/step - loss: 0.1186 - acc: 0.6939 - val_loss: 0.1228 - val_acc: 0.3810\n",
      "Epoch 17/50\n",
      "49/49 [==============================] - 0s 3ms/step - loss: 0.1192 - acc: 0.5510 - val_loss: 0.1213 - val_acc: 0.3810\n",
      "Epoch 18/50\n",
      "49/49 [==============================] - 0s 3ms/step - loss: 0.1204 - acc: 0.4490 - val_loss: 0.1200 - val_acc: 0.3810\n",
      "Epoch 19/50\n",
      "49/49 [==============================] - 0s 3ms/step - loss: 0.1159 - acc: 0.5918 - val_loss: 0.1184 - val_acc: 0.3810\n",
      "Epoch 20/50\n",
      "49/49 [==============================] - 0s 3ms/step - loss: 0.1127 - acc: 0.6327 - val_loss: 0.1167 - val_acc: 0.3333\n",
      "Epoch 21/50\n",
      "49/49 [==============================] - 0s 3ms/step - loss: 0.1131 - acc: 0.5714 - val_loss: 0.1150 - val_acc: 0.3333\n",
      "Epoch 22/50\n",
      "49/49 [==============================] - 0s 3ms/step - loss: 0.1084 - acc: 0.5918 - val_loss: 0.1132 - val_acc: 0.3810\n",
      "Epoch 23/50\n",
      "49/49 [==============================] - 0s 3ms/step - loss: 0.1076 - acc: 0.6327 - val_loss: 0.1114 - val_acc: 0.3810\n",
      "Epoch 24/50\n",
      "49/49 [==============================] - 0s 4ms/step - loss: 0.1048 - acc: 0.6327 - val_loss: 0.1097 - val_acc: 0.3810\n",
      "Epoch 25/50\n",
      "49/49 [==============================] - 0s 4ms/step - loss: 0.1023 - acc: 0.6735 - val_loss: 0.1077 - val_acc: 0.3810\n",
      "Epoch 26/50\n",
      "49/49 [==============================] - 0s 3ms/step - loss: 0.0981 - acc: 0.6122 - val_loss: 0.1055 - val_acc: 0.3810\n",
      "Epoch 27/50\n",
      "49/49 [==============================] - 0s 3ms/step - loss: 0.0945 - acc: 0.6735 - val_loss: 0.1035 - val_acc: 0.3810\n",
      "Epoch 28/50\n",
      "49/49 [==============================] - 0s 3ms/step - loss: 0.0927 - acc: 0.6327 - val_loss: 0.1014 - val_acc: 0.3810\n",
      "Epoch 29/50\n",
      "49/49 [==============================] - 0s 4ms/step - loss: 0.0888 - acc: 0.7143 - val_loss: 0.0995 - val_acc: 0.3810\n",
      "Epoch 30/50\n",
      "49/49 [==============================] - 0s 4ms/step - loss: 0.0924 - acc: 0.6327 - val_loss: 0.0974 - val_acc: 0.3810\n",
      "Epoch 31/50\n",
      "49/49 [==============================] - 0s 3ms/step - loss: 0.0901 - acc: 0.6327 - val_loss: 0.0959 - val_acc: 0.3810\n",
      "Epoch 32/50\n",
      "49/49 [==============================] - 0s 4ms/step - loss: 0.0865 - acc: 0.6735 - val_loss: 0.0939 - val_acc: 0.3810\n",
      "Epoch 33/50\n",
      "49/49 [==============================] - 0s 4ms/step - loss: 0.0849 - acc: 0.6531 - val_loss: 0.0916 - val_acc: 0.3810\n",
      "Epoch 34/50\n",
      "49/49 [==============================] - 0s 4ms/step - loss: 0.0856 - acc: 0.6327 - val_loss: 0.0906 - val_acc: 0.3810\n",
      "Epoch 35/50\n",
      "49/49 [==============================] - 0s 4ms/step - loss: 0.0818 - acc: 0.6735 - val_loss: 0.0890 - val_acc: 0.3810\n",
      "Epoch 36/50\n",
      "49/49 [==============================] - 0s 4ms/step - loss: 0.0831 - acc: 0.6939 - val_loss: 0.0863 - val_acc: 0.3810\n",
      "Epoch 37/50\n",
      "49/49 [==============================] - 0s 4ms/step - loss: 0.0726 - acc: 0.7551 - val_loss: 0.0843 - val_acc: 0.3810\n",
      "Epoch 38/50\n",
      "49/49 [==============================] - 0s 3ms/step - loss: 0.0789 - acc: 0.6735 - val_loss: 0.0820 - val_acc: 0.4286\n",
      "Epoch 39/50\n",
      "49/49 [==============================] - 0s 4ms/step - loss: 0.0711 - acc: 0.7959 - val_loss: 0.0799 - val_acc: 0.4762\n",
      "Epoch 40/50\n",
      "49/49 [==============================] - 0s 4ms/step - loss: 0.0637 - acc: 0.8367 - val_loss: 0.0767 - val_acc: 0.6190\n",
      "Epoch 41/50\n",
      "49/49 [==============================] - 0s 4ms/step - loss: 0.0654 - acc: 0.8571 - val_loss: 0.0742 - val_acc: 0.6667\n",
      "Epoch 42/50\n",
      "49/49 [==============================] - 0s 3ms/step - loss: 0.0668 - acc: 0.6531 - val_loss: 0.0724 - val_acc: 0.6667\n",
      "Epoch 43/50\n",
      "49/49 [==============================] - 0s 4ms/step - loss: 0.0554 - acc: 0.8571 - val_loss: 0.0707 - val_acc: 0.6667\n",
      "Epoch 44/50\n",
      "49/49 [==============================] - 0s 4ms/step - loss: 0.0529 - acc: 0.8571 - val_loss: 0.0682 - val_acc: 0.6667\n",
      "Epoch 45/50\n",
      "49/49 [==============================] - 0s 4ms/step - loss: 0.0660 - acc: 0.8367 - val_loss: 0.0651 - val_acc: 0.7143\n",
      "Epoch 46/50\n",
      "49/49 [==============================] - 0s 4ms/step - loss: 0.0519 - acc: 0.8571 - val_loss: 0.0620 - val_acc: 0.7619\n",
      "Epoch 47/50\n",
      "49/49 [==============================] - 0s 3ms/step - loss: 0.0534 - acc: 0.8571 - val_loss: 0.0585 - val_acc: 0.7619\n",
      "Epoch 48/50\n",
      "49/49 [==============================] - 0s 3ms/step - loss: 0.0569 - acc: 0.8367 - val_loss: 0.0564 - val_acc: 0.7619\n",
      "Epoch 49/50\n",
      "49/49 [==============================] - 0s 4ms/step - loss: 0.0620 - acc: 0.7551 - val_loss: 0.0547 - val_acc: 0.7619\n",
      "Epoch 50/50\n",
      "49/49 [==============================] - 0s 4ms/step - loss: 0.0561 - acc: 0.7551 - val_loss: 0.0531 - val_acc: 0.7619\n",
      "21/21 [==============================] - 0s 1ms/step\n",
      "Test score: 0.053145547973967734\n",
      "Test accuracy: 0.7619047619047619\n"
     ]
    }
   ],
   "source": [
    "# Split the data\n",
    "\n",
    "X_train_new, X_val_new, y_train_new,y_val_new =  train_test_split(train_set, Y_train, test_size=0.3, random_state=4)\n",
    "\n",
    "\n",
    "# Train the model\n",
    "\n",
    "hist = model.fit(X_train_new, y_train_new, validation_data=(X_val_new,y_val_new),\n",
    "          batch_size=batch_size,nb_epoch = nb_epoch,shuffle=True)\n",
    "\n",
    "\n",
    "\n",
    " # Evaluate the model\n",
    "score = model.evaluate(X_val_new, y_val_new, batch_size=batch_size)\n",
    "print('Test score:', score[0])\n",
    "print('Test accuracy:', score[1]) "
   ]
  },
  {
   "cell_type": "markdown",
   "metadata": {},
   "source": [
    "## Display the results "
   ]
  },
  {
   "cell_type": "code",
   "execution_count": 90,
   "metadata": {},
   "outputs": [
    {
     "name": "stdout",
     "output_type": "stream",
     "text": [
      "['seaborn-deep', 'seaborn-pastel', 'fast', 'bmh', 'seaborn-poster', 'seaborn-paper', 'seaborn-whitegrid', 'seaborn-notebook', 'seaborn-dark-palette', 'seaborn-ticks', 'fivethirtyeight', '_classic_test', 'Solarize_Light2', 'seaborn-dark', 'ggplot', 'seaborn-colorblind', 'seaborn-muted', 'seaborn-talk', 'grayscale', 'seaborn', 'seaborn-white', 'dark_background', 'classic', 'tableau-colorblind10', 'seaborn-bright', 'seaborn-darkgrid']\n"
     ]
    },
    {
     "data": {
      "image/png": "[encoded data removed]",
      "text/plain": [
       "<Figure size 560x400 with 1 Axes>"
      ]
     },
     "metadata": {},
     "output_type": "display_data"
    },
    {
     "data": {
      "image/png": "[encoded data removed]",
      "text/plain": [
       "<Figure size 560x400 with 1 Axes>"
      ]
     },
     "metadata": {},
     "output_type": "display_data"
    }
   ],
   "source": [
    "# Plot the results\n",
    "train_loss=hist.history['loss']\n",
    "val_loss=hist.history['val_loss']\n",
    "train_acc=hist.history['acc']\n",
    "val_acc=hist.history['val_acc']\n",
    "xc=range(50)\n",
    "\n",
    "plt.figure(1,figsize=(7,5))\n",
    "plt.plot(xc,train_loss)\n",
    "plt.plot(xc,val_loss)\n",
    "plt.xlabel('num of Epochs')\n",
    "plt.ylabel('loss')\n",
    "plt.title('train_loss vs val_loss')\n",
    "plt.grid(True)\n",
    "plt.legend(['train','val'])\n",
    "print (plt.style.available) # use bmh, classic,ggplot for big pictures\n",
    "plt.style.use(['classic'])\n",
    "\n",
    "plt.figure(2,figsize=(7,5))\n",
    "plt.plot(xc,train_acc)\n",
    "plt.plot(xc,val_acc)\n",
    "plt.xlabel('num of Epochs')\n",
    "plt.ylabel('accuracy')\n",
    "plt.title('train_acc vs val_acc')\n",
    "plt.grid(True)\n",
    "plt.legend(['train','val'],loc=4)\n",
    "#print plt.style.available # use bmh, classic,ggplot for big pictures\n",
    "plt.style.use(['classic'])"
   ]
  },
  {
   "cell_type": "code",
   "execution_count": null,
   "metadata": {},
   "outputs": [],
   "source": []
  },
  {
   "cell_type": "code",
   "execution_count": null,
   "metadata": {},
   "outputs": [],
   "source": []
  }
 ],
 "metadata": {
  "kernelspec": {
   "display_name": "Python 3",
   "language": "python",
   "name": "python3"
  },
  "language_info": {
   "codemirror_mode": {
    "name": "ipython",
    "version": 3
   },
   "file_extension": ".py",
   "mimetype": "text/x-python",
   "name": "python",
   "nbconvert_exporter": "python",
   "pygments_lexer": "ipython3",
   "version": "3.6.8"
  }
 },
 "nbformat": 4,
 "nbformat_minor": 2
}
