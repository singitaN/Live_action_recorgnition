{
 "cells": [
  {
   "cell_type": "markdown",
   "metadata": {},
   "source": [
    "# Clipping a video stream using Moviepy\n",
    "\n",
    "From our knowledge on UCF Sports Datasets, we will require a set of actions collected from sports which are typically feautured on broadcast television channels. Knowing this, we will need to do the same for the Rugby match in order to make a trainable dataset to be used in activity detection using Deep Learning. \n",
    "\n",
    "MoviePy (full documentation) is a Python library for video editing: cutting, concatenations, title insertions, video compositing (a.k.a. non-linear editing), video processing, and creation of custom effects. We will make use of MoviePy to achieve these effects."
   ]
  },
  {
   "cell_type": "markdown",
   "metadata": {},
   "source": [
    "## Install MoviePy package \n",
    "conda install -c conda-forge moviepy"
   ]
  },
  {
   "cell_type": "code",
   "execution_count": 1,
   "metadata": {},
   "outputs": [
    {
     "data": {
      "text/plain": [
       "'/home/user/Documents/DSIDE2018 Phase 2 Dataset/Data Sets/rugby/Pumas_vs_WP'"
      ]
     },
     "execution_count": 1,
     "metadata": {},
     "output_type": "execute_result"
    }
   ],
   "source": [
    "# Check current directory and make sure the video is present in the folder. If not, copy and paste it there.\n",
    "\n",
    "import os\n",
    "os.getcwd()"
   ]
  },
  {
   "cell_type": "markdown",
   "metadata": {},
   "source": [
    "## Convert the start and end times to seconds\n",
    "\n",
    "We need to convert the start and end times of the event, indicated in the file Pumas vs Wp.txt into seconds first so that we can use it to extract the exact periods of the event."
   ]
  },
  {
   "cell_type": "code",
   "execution_count": null,
   "metadata": {},
   "outputs": [],
   "source": [
    "startTime = input(\"Enter the event start time: \")\n",
    "endTime = input(\"Enter the event end time: \")\n",
    "\n",
    "def get_seconds(time_str):\n",
    "    h, m, s, ms = time_str.split(':')\n",
    "    return int(h) * 3600 + int(m) * 60 + int(s) + int(ms)*0.01\n",
    "\n",
    "eventStart = get_seconds(startTime)\n",
    "eventEnd = get_seconds(endTime)\n",
    "\n",
    "print (\"Event start time in seconds: \", eventStart)\n",
    "print (\"Event end time in seconds: \", eventEnd)"
   ]
  },
  {
   "cell_type": "markdown",
   "metadata": {},
   "source": [
    "## Extract video of the times indicated from the dataset\n",
    "\n",
    "Now we can use MoviePy to extract clips of the event at the specified start and end times in seconds.\n",
    "\n",
    "(As you try work through the clips, number Event Video.mp4 and clippedEvent.mp4 to avoid overwritting the previous video which was previously extracted.)"
   ]
  },
  {
   "cell_type": "code",
   "execution_count": 203,
   "metadata": {},
   "outputs": [
    {
     "name": "stdout",
     "output_type": "stream",
     "text": [
      "\n",
      "[MoviePy] Running:\n",
      ">>> /home/user/anaconda3/bin/ffmpeg -y -i Pumas vs WP.mp4 -ss 6342.61 -t 34.00 -vcodec copy -acodec copy Event Video.mp4\n",
      "... command successful.\n"
     ]
    }
   ],
   "source": [
    "from moviepy.video.io.ffmpeg_tools import ffmpeg_extract_subclip\n",
    "\n",
    "ffmpeg_extract_subclip(\"Pumas vs WP.mp4\", eventStart, eventEnd, targetname=\"Event Video.mp4\")\n"
   ]
  },
  {
   "cell_type": "markdown",
   "metadata": {},
   "source": [
    "## Extract video of the specific event or activity\n",
    "\n",
    "Since the indicated events in Pumas vs WP.txt take a number of seconds, we need to split the video again to focus on one complete event. \n",
    "Play Event Video.mp4 again and take note of the ending and starting times of the actual event (kick, pass, etc) and extract video of this specific instance."
   ]
  },
  {
   "cell_type": "code",
   "execution_count": 204,
   "metadata": {
    "scrolled": false
   },
   "outputs": [
    {
     "name": "stdout",
     "output_type": "stream",
     "text": [
      "Enter the event start time: 00:00:03:00 \n",
      "Enter the event end time: 00:00:04:00\n",
      "Event start time in seconds:  3.0\n",
      "Event end time in seconds:  4.0\n"
     ]
    }
   ],
   "source": [
    "startTime = input(\"Enter the event start time: \")\n",
    "endTime = input(\"Enter the event end time: \")\n",
    "\n",
    "def get_seconds(time_str):\n",
    "    h, m, s, ms = time_str.split(':')\n",
    "    return int(h) * 3600 + int(m) * 60 + int(s) + int(ms)*0.01\n",
    "\n",
    "eventStart = get_seconds(startTime)\n",
    "eventEnd = get_seconds(endTime)\n",
    "\n",
    "print (\"Event start time in seconds: \", eventStart)\n",
    "print (\"Event end time in seconds: \", eventEnd)"
   ]
  },
  {
   "cell_type": "code",
   "execution_count": 205,
   "metadata": {},
   "outputs": [
    {
     "name": "stdout",
     "output_type": "stream",
     "text": [
      "\n",
      "[MoviePy] Running:\n",
      ">>> /home/user/anaconda3/bin/ffmpeg -y -i Event Video.mp4 -ss 3.00 -t 1.00 -vcodec copy -acodec copy Pumas_Lineout_Attack12.mp4\n",
      "... command successful.\n"
     ]
    }
   ],
   "source": [
    "from moviepy.video.io.ffmpeg_tools import ffmpeg_extract_subclip\n",
    "\n",
    "\n",
    "ffmpeg_extract_subclip(\"Event Video.mp4\", eventStart, eventEnd, targetname=\"Pumas_Lineout_Attack12.mp4\")"
   ]
  },
  {
   "cell_type": "code",
   "execution_count": null,
   "metadata": {},
   "outputs": [],
   "source": []
  }
 ],
 "metadata": {
  "kernelspec": {
   "display_name": "Python 3",
   "language": "python",
   "name": "python3"
  },
  "language_info": {
   "codemirror_mode": {
    "name": "ipython",
    "version": 3
   },
   "file_extension": ".py",
   "mimetype": "text/x-python",
   "name": "python",
   "nbconvert_exporter": "python",
   "pygments_lexer": "ipython3",
   "version": "3.6.6"
  }
 },
 "nbformat": 4,
 "nbformat_minor": 2
}
